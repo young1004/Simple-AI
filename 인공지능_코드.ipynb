{
  "nbformat": 4,
  "nbformat_minor": 0,
  "metadata": {
    "colab": {
      "name": "인공지능_코드",
      "provenance": [],
      "collapsed_sections": [],
      "authorship_tag": "ABX9TyM6UNOuFao3LD3HZB4d7IHT",
      "include_colab_link": true
    },
    "kernelspec": {
      "name": "python3",
      "display_name": "Python 3"
    }
  },
  "cells": [
    {
      "cell_type": "markdown",
      "metadata": {
        "id": "view-in-github",
        "colab_type": "text"
      },
      "source": [
        "<a href=\"https://colab.research.google.com/github/young1004/Simple-AI/blob/master/%EC%9D%B8%EA%B3%B5%EC%A7%80%EB%8A%A5_%EC%BD%94%EB%93%9C.ipynb\" target=\"_parent\"><img src=\"https://colab.research.google.com/assets/colab-badge.svg\" alt=\"Open In Colab\"/></a>"
      ]
    },
    {
      "cell_type": "code",
      "metadata": {
        "id": "C6lAkvEYsb3C"
      },
      "source": [
        "import os\n",
        "import sys\n",
        "import numpy\n",
        "import matplotlib.pyplot as plt\n",
        "\n",
        "from keras.datasets import mnist\n",
        "from keras.utils import np_utils\n",
        "from keras.models import Sequential\n",
        "from keras.callbacks import ModelCheckpoint,EarlyStopping\n",
        "from keras.layers import Dense"
      ],
      "execution_count": null,
      "outputs": []
    },
    {
      "cell_type": "code",
      "metadata": {
        "id": "uUrs3pjXstfR"
      },
      "source": [
        "(X_train, Y_class_train), (X_test, Y_class_test) = mnist.load_data()"
      ],
      "execution_count": null,
      "outputs": []
    },
    {
      "cell_type": "code",
      "metadata": {
        "id": "MbT_Yfn2st1Y",
        "colab": {
          "base_uri": "https://localhost:8080/"
        },
        "outputId": "7654f788-8306-4fac-8270-628aa6e6756c"
      },
      "source": [
        "print(\"학습셋 이미지 수: %d 개\" % (X_train.shape[0]))\n",
        "print(\"테스트셋 이미지 수: %d 개\" % (X_test.shape[0]))"
      ],
      "execution_count": null,
      "outputs": [
        {
          "output_type": "stream",
          "text": [
            "학습셋 이미지 수: 60000 개\n",
            "테스트셋 이미지 수: 10000 개\n"
          ],
          "name": "stdout"
        }
      ]
    },
    {
      "cell_type": "code",
      "metadata": {
        "id": "pEbnDFBWuXmX",
        "colab": {
          "base_uri": "https://localhost:8080/",
          "height": 265
        },
        "outputId": "8babf923-e409-4926-ef6d-d6887834129a"
      },
      "source": [
        "plt.imshow(X_train[0], cmap='Greys')\n",
        "plt.show()"
      ],
      "execution_count": null,
      "outputs": [
        {
          "output_type": "display_data",
          "data": {
            "image/png": "[encoded data removed]",
            "text/plain": [
              "<Figure size 432x288 with 1 Axes>"
            ]
          },
          "metadata": {
            "tags": [],
            "needs_background": "light"
          }
        }
      ]
    },
    {
      "cell_type": "code",
      "metadata": {
        "id": "XNrTjkQ3ucU-",
        "colab": {
          "base_uri": "https://localhost:8080/"
        },
        "outputId": "edab1be3-9120-4bed-fdfe-10f3d0b5d9d7"
      },
      "source": [
        "for x in X_train[0]:\n",
        "    for i in x:\n",
        "        sys.stdout.write('%d\\t' % i)\n",
        "    sys.stdout.write('\\n')"
      ],
      "execution_count": null,
      "outputs": [
        {
          "output_type": "stream",
          "text": [
            "0\t0\t0\t0\t0\t0\t0\t0\t0\t0\t0\t0\t0\t0\t0\t0\t0\t0\t0\t0\t0\t0\t0\t0\t0\t0\t0\t0\t\n",
            "0\t0\t0\t0\t0\t0\t0\t0\t0\t0\t0\t0\t0\t0\t0\t0\t0\t0\t0\t0\t0\t0\t0\t0\t0\t0\t0\t0\t\n",
            "0\t0\t0\t0\t0\t0\t0\t0\t0\t0\t0\t0\t0\t0\t0\t0\t0\t0\t0\t0\t0\t0\t0\t0\t0\t0\t0\t0\t\n",
            "0\t0\t0\t0\t0\t0\t0\t0\t0\t0\t0\t0\t0\t0\t0\t0\t0\t0\t0\t0\t0\t0\t0\t0\t0\t0\t0\t0\t\n",
            "0\t0\t0\t0\t0\t0\t0\t0\t0\t0\t0\t0\t0\t0\t0\t0\t0\t0\t0\t0\t0\t0\t0\t0\t0\t0\t0\t0\t\n",
            "0\t0\t0\t0\t0\t0\t0\t0\t0\t0\t0\t0\t3\t18\t18\t18\t126\t136\t175\t26\t166\t255\t247\t127\t0\t0\t0\t0\t\n",
            "0\t0\t0\t0\t0\t0\t0\t0\t30\t36\t94\t154\t170\t253\t253\t253\t253\t253\t225\t172\t253\t242\t195\t64\t0\t0\t0\t0\t\n",
            "0\t0\t0\t0\t0\t0\t0\t49\t238\t253\t253\t253\t253\t253\t253\t253\t253\t251\t93\t82\t82\t56\t39\t0\t0\t0\t0\t0\t\n",
            "0\t0\t0\t0\t0\t0\t0\t18\t219\t253\t253\t253\t253\t253\t198\t182\t247\t241\t0\t0\t0\t0\t0\t0\t0\t0\t0\t0\t\n",
            "0\t0\t0\t0\t0\t0\t0\t0\t80\t156\t107\t253\t253\t205\t11\t0\t43\t154\t0\t0\t0\t0\t0\t0\t0\t0\t0\t0\t\n",
            "0\t0\t0\t0\t0\t0\t0\t0\t0\t14\t1\t154\t253\t90\t0\t0\t0\t0\t0\t0\t0\t0\t0\t0\t0\t0\t0\t0\t\n",
            "0\t0\t0\t0\t0\t0\t0\t0\t0\t0\t0\t139\t253\t190\t2\t0\t0\t0\t0\t0\t0\t0\t0\t0\t0\t0\t0\t0\t\n",
            "0\t0\t0\t0\t0\t0\t0\t0\t0\t0\t0\t11\t190\t253\t70\t0\t0\t0\t0\t0\t0\t0\t0\t0\t0\t0\t0\t0\t\n",
            "0\t0\t0\t0\t0\t0\t0\t0\t0\t0\t0\t0\t35\t241\t225\t160\t108\t1\t0\t0\t0\t0\t0\t0\t0\t0\t0\t0\t\n",
            "0\t0\t0\t0\t0\t0\t0\t0\t0\t0\t0\t0\t0\t81\t240\t253\t253\t119\t25\t0\t0\t0\t0\t0\t0\t0\t0\t0\t\n",
            "0\t0\t0\t0\t0\t0\t0\t0\t0\t0\t0\t0\t0\t0\t45\t186\t253\t253\t150\t27\t0\t0\t0\t0\t0\t0\t0\t0\t\n",
            "0\t0\t0\t0\t0\t0\t0\t0\t0\t0\t0\t0\t0\t0\t0\t16\t93\t252\t253\t187\t0\t0\t0\t0\t0\t0\t0\t0\t\n",
            "0\t0\t0\t0\t0\t0\t0\t0\t0\t0\t0\t0\t0\t0\t0\t0\t0\t249\t253\t249\t64\t0\t0\t0\t0\t0\t0\t0\t\n",
            "0\t0\t0\t0\t0\t0\t0\t0\t0\t0\t0\t0\t0\t0\t46\t130\t183\t253\t253\t207\t2\t0\t0\t0\t0\t0\t0\t0\t\n",
            "0\t0\t0\t0\t0\t0\t0\t0\t0\t0\t0\t0\t39\t148\t229\t253\t253\t253\t250\t182\t0\t0\t0\t0\t0\t0\t0\t0\t\n",
            "0\t0\t0\t0\t0\t0\t0\t0\t0\t0\t24\t114\t221\t253\t253\t253\t253\t201\t78\t0\t0\t0\t0\t0\t0\t0\t0\t0\t\n",
            "0\t0\t0\t0\t0\t0\t0\t0\t23\t66\t213\t253\t253\t253\t253\t198\t81\t2\t0\t0\t0\t0\t0\t0\t0\t0\t0\t0\t\n",
            "0\t0\t0\t0\t0\t0\t18\t171\t219\t253\t253\t253\t253\t195\t80\t9\t0\t0\t0\t0\t0\t0\t0\t0\t0\t0\t0\t0\t\n",
            "0\t0\t0\t0\t55\t172\t226\t253\t253\t253\t253\t244\t133\t11\t0\t0\t0\t0\t0\t0\t0\t0\t0\t0\t0\t0\t0\t0\t\n",
            "0\t0\t0\t0\t136\t253\t253\t253\t212\t135\t132\t16\t0\t0\t0\t0\t0\t0\t0\t0\t0\t0\t0\t0\t0\t0\t0\t0\t\n",
            "0\t0\t0\t0\t0\t0\t0\t0\t0\t0\t0\t0\t0\t0\t0\t0\t0\t0\t0\t0\t0\t0\t0\t0\t0\t0\t0\t0\t\n",
            "0\t0\t0\t0\t0\t0\t0\t0\t0\t0\t0\t0\t0\t0\t0\t0\t0\t0\t0\t0\t0\t0\t0\t0\t0\t0\t0\t0\t\n",
            "0\t0\t0\t0\t0\t0\t0\t0\t0\t0\t0\t0\t0\t0\t0\t0\t0\t0\t0\t0\t0\t0\t0\t0\t0\t0\t0\t0\t\n"
          ],
          "name": "stdout"
        }
      ]
    },
    {
      "cell_type": "code",
      "metadata": {
        "id": "v0V0v7Kcu6PP",
        "colab": {
          "base_uri": "https://localhost:8080/"
        },
        "outputId": "379ac473-ccbe-4778-b1c1-464dc6834412"
      },
      "source": [
        "X_train = X_train.reshape(X_train.shape[0], 784)\n",
        "\n",
        "print(\"class : %d \" % (Y_class_train[0]))\n"
      ],
      "execution_count": null,
      "outputs": [
        {
          "output_type": "stream",
          "text": [
            "class : 5 \n"
          ],
          "name": "stdout"
        }
      ]
    },
    {
      "cell_type": "code",
      "metadata": {
        "id": "rh4WLaQ1vK0j",
        "colab": {
          "base_uri": "https://localhost:8080/"
        },
        "outputId": "d142b807-e9ef-4294-f8d9-b5499dc80145"
      },
      "source": [
        "Y_train = np_utils.to_categorical(Y_class_train,10)\n",
        "Y_test = np_utils.to_categorical(Y_class_test,10)\n",
        "\n",
        "print(Y_train[0])"
      ],
      "execution_count": null,
      "outputs": [
        {
          "output_type": "stream",
          "text": [
            "[0. 0. 0. 0. 0. 1. 0. 0. 0. 0.]\n",
            "[0. 0. 0. 0. 0. 0. 0. 1. 0. 0.]\n"
          ],
          "name": "stdout"
        }
      ]
    },
    {
      "cell_type": "code",
      "metadata": {
        "id": "dugnaajczUKN",
        "colab": {
          "base_uri": "https://localhost:8080/"
        },
        "outputId": "0ab7e2e6-bdfe-402e-9470-7636e643e2a2"
      },
      "source": [
        "X_train = X_train.reshape(X_train.shape[0], 784).astype('float32') / 255\n",
        "X_test = X_test.reshape(X_test.shape[0], 784).astype('float32') / 255"
      ],
      "execution_count": null,
      "outputs": [
        {
          "output_type": "stream",
          "text": [
            "[[0. 0. 0. ... 0. 0. 0.]\n",
            " [0. 0. 0. ... 0. 0. 0.]\n",
            " [0. 0. 0. ... 0. 0. 0.]\n",
            " ...\n",
            " [0. 0. 0. ... 0. 0. 0.]\n",
            " [0. 0. 0. ... 0. 0. 0.]\n",
            " [0. 0. 0. ... 0. 0. 0.]]\n",
            "[[0. 0. 0. ... 0. 0. 0.]\n",
            " [0. 0. 0. ... 0. 0. 0.]\n",
            " [0. 0. 0. ... 0. 0. 0.]\n",
            " ...\n",
            " [0. 0. 0. ... 0. 0. 0.]\n",
            " [0. 0. 0. ... 0. 0. 0.]\n",
            " [0. 0. 0. ... 0. 0. 0.]]\n"
          ],
          "name": "stdout"
        }
      ]
    },
    {
      "cell_type": "code",
      "metadata": {
        "id": "AzeS14B8vpb8"
      },
      "source": [
        "model = Sequential()\n",
        "model.add(Dense(512, input_dim=784, activation='relu'))\n",
        "model.add(Dense(10, activation='softmax'))"
      ],
      "execution_count": null,
      "outputs": []
    },
    {
      "cell_type": "code",
      "metadata": {
        "id": "YcQh6ABjwSoR"
      },
      "source": [
        "model.compile(loss='categorical_crossentropy', optimizer='adam', metrics=['accuracy'])"
      ],
      "execution_count": null,
      "outputs": []
    },
    {
      "cell_type": "code",
      "metadata": {
        "id": "luBA7QKnw6mF"
      },
      "source": [
        "MODEL_DIR = './model/'\n",
        "if not os.path.exists(MODEL_DIR):\n",
        "    os.mkdir(MODEL_DIR)\n",
        "\n",
        "modelpath=\"./model/{epoch:02d}-{val_loss:.4f}.hdf5\"\n",
        "checkpointer = ModelCheckpoint(filepath=modelpath, monitor='val_loss', verbose=1, save_best_only=True)\n",
        "early_stopping_callback = EarlyStopping(monitor='val_loss', patience=10)"
      ],
      "execution_count": null,
      "outputs": []
    },
    {
      "cell_type": "code",
      "metadata": {
        "id": "saL7yZkqzznW",
        "colab": {
          "base_uri": "https://localhost:8080/"
        },
        "outputId": "e15e6a67-d5f6-41aa-b9fe-6d28d3eb8d5f"
      },
      "source": [
        "history = model.fit(X_train, Y_train, validation_data=(X_test, Y_test), epochs=30, batch_size=200, verbose=0, callbacks=[early_stopping_callback, checkpointer])"
      ],
      "execution_count": null,
      "outputs": [
        {
          "output_type": "stream",
          "text": [
            "\n",
            "Epoch 00001: val_loss improved from inf to 0.95334, saving model to ./model/01-0.9533.hdf5\n",
            "\n",
            "Epoch 00002: val_loss improved from 0.95334 to 0.54082, saving model to ./model/02-0.5408.hdf5\n",
            "\n",
            "Epoch 00003: val_loss improved from 0.54082 to 0.41834, saving model to ./model/03-0.4183.hdf5\n",
            "\n",
            "Epoch 00004: val_loss improved from 0.41834 to 0.36374, saving model to ./model/04-0.3637.hdf5\n",
            "\n",
            "Epoch 00005: val_loss improved from 0.36374 to 0.33554, saving model to ./model/05-0.3355.hdf5\n",
            "\n",
            "Epoch 00006: val_loss improved from 0.33554 to 0.31512, saving model to ./model/06-0.3151.hdf5\n",
            "\n",
            "Epoch 00007: val_loss improved from 0.31512 to 0.30137, saving model to ./model/07-0.3014.hdf5\n",
            "\n",
            "Epoch 00008: val_loss improved from 0.30137 to 0.29017, saving model to ./model/08-0.2902.hdf5\n",
            "\n",
            "Epoch 00009: val_loss improved from 0.29017 to 0.28130, saving model to ./model/09-0.2813.hdf5\n",
            "\n",
            "Epoch 00010: val_loss improved from 0.28130 to 0.27534, saving model to ./model/10-0.2753.hdf5\n",
            "\n",
            "Epoch 00011: val_loss improved from 0.27534 to 0.26645, saving model to ./model/11-0.2665.hdf5\n",
            "\n",
            "Epoch 00012: val_loss improved from 0.26645 to 0.25993, saving model to ./model/12-0.2599.hdf5\n",
            "\n",
            "Epoch 00013: val_loss improved from 0.25993 to 0.25403, saving model to ./model/13-0.2540.hdf5\n",
            "\n",
            "Epoch 00014: val_loss improved from 0.25403 to 0.24653, saving model to ./model/14-0.2465.hdf5\n",
            "\n",
            "Epoch 00015: val_loss improved from 0.24653 to 0.24140, saving model to ./model/15-0.2414.hdf5\n",
            "\n",
            "Epoch 00016: val_loss improved from 0.24140 to 0.23584, saving model to ./model/16-0.2358.hdf5\n",
            "\n",
            "Epoch 00017: val_loss improved from 0.23584 to 0.22939, saving model to ./model/17-0.2294.hdf5\n",
            "\n",
            "Epoch 00018: val_loss improved from 0.22939 to 0.22357, saving model to ./model/18-0.2236.hdf5\n",
            "\n",
            "Epoch 00019: val_loss improved from 0.22357 to 0.21739, saving model to ./model/19-0.2174.hdf5\n",
            "\n",
            "Epoch 00020: val_loss improved from 0.21739 to 0.21195, saving model to ./model/20-0.2119.hdf5\n",
            "\n",
            "Epoch 00021: val_loss improved from 0.21195 to 0.20704, saving model to ./model/21-0.2070.hdf5\n",
            "\n",
            "Epoch 00022: val_loss improved from 0.20704 to 0.20167, saving model to ./model/22-0.2017.hdf5\n",
            "\n",
            "Epoch 00023: val_loss improved from 0.20167 to 0.19488, saving model to ./model/23-0.1949.hdf5\n",
            "\n",
            "Epoch 00024: val_loss improved from 0.19488 to 0.18996, saving model to ./model/24-0.1900.hdf5\n",
            "\n",
            "Epoch 00025: val_loss improved from 0.18996 to 0.18501, saving model to ./model/25-0.1850.hdf5\n",
            "\n",
            "Epoch 00026: val_loss improved from 0.18501 to 0.18287, saving model to ./model/26-0.1829.hdf5\n",
            "\n",
            "Epoch 00027: val_loss improved from 0.18287 to 0.17599, saving model to ./model/27-0.1760.hdf5\n",
            "\n",
            "Epoch 00028: val_loss improved from 0.17599 to 0.17173, saving model to ./model/28-0.1717.hdf5\n",
            "\n",
            "Epoch 00029: val_loss improved from 0.17173 to 0.16933, saving model to ./model/29-0.1693.hdf5\n",
            "\n",
            "Epoch 00030: val_loss improved from 0.16933 to 0.16274, saving model to ./model/30-0.1627.hdf5\n"
          ],
          "name": "stdout"
        }
      ]
    },
    {
      "cell_type": "code",
      "metadata": {
        "id": "GTuPbpbz13JD",
        "colab": {
          "base_uri": "https://localhost:8080/",
          "height": 279
        },
        "outputId": "e7fb48ad-857c-4a23-dffa-a547c6267000"
      },
      "source": [
        "y_vloss = history.history['val_loss']\n",
        "  \n",
        "# 학습셋의 오차\n",
        "y_loss = history.history['loss']\n",
        "  \n",
        "# 그래프로 표현\n",
        "x_len = numpy.arange(len(y_loss))\n",
        "plt.plot(x_len, y_vloss, marker='.', c=\"red\", label='Testset_loss')\n",
        "plt.plot(x_len, y_loss, marker='.', c=\"blue\", label='Trainset_loss')\n",
        "  \n",
        "# 그래프에 그리드를 주고 레이블을 표시\n",
        "plt.legend(loc='upper right')\n",
        "plt.grid()\n",
        "plt.xlabel('epoch')\n",
        "plt.ylabel('loss')\n",
        "plt.show()"
      ],
      "execution_count": null,
      "outputs": [
        {
          "output_type": "display_data",
          "data": {
            "image/png": "[encoded data removed]",
            "text/plain": [
              "<Figure size 432x288 with 1 Axes>"
            ]
          },
          "metadata": {
            "tags": [],
            "needs_background": "light"
          }
        }
      ]
    },
    {
      "cell_type": "markdown",
      "metadata": {
        "id": "OyfPHkfkuJFU"
      },
      "source": [
        ""
      ]
    }
  ]
}